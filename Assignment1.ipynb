{
 "cells": [
  {
   "cell_type": "markdown",
   "id": "41fab64d-088e-47d3-aba6-bf387f87e26f",
   "metadata": {},
   "source": [
    "1. In the below elements which of them are values or an expression? eg:- values can be integer or string and expressions will be mathematical operators."
   ]
  },
  {
   "cell_type": "markdown",
   "id": "3cd48de5-6209-4a33-a4e2-798b12b048da",
   "metadata": {},
   "source": [
    "ans \n",
    "* =expression,\n",
    "'hello'= values ,\n",
    "-87.8 = values,\n",
    "- expression\n",
    "/ - expression\n",
    "+\t- expression\n",
    "6  - values\n"
   ]
  },
  {
   "cell_type": "markdown",
   "id": "670fc698-6397-43a1-9592-fcde59e091b2",
   "metadata": {},
   "source": [
    "2. What is the difference between string and variable?"
   ]
  },
  {
   "cell_type": "markdown",
   "id": "e318b422-d27d-4150-80ac-5da8c5dbf2a4",
   "metadata": {},
   "source": [
    "Ans \n",
    "variables  is used to store data ,\n",
    "\n",
    "string are datas "
   ]
  },
  {
   "cell_type": "markdown",
   "id": "d1b974ae-4a46-4a77-b719-5e638277c90a",
   "metadata": {},
   "source": [
    "3. Describe three different data types"
   ]
  },
  {
   "cell_type": "markdown",
   "id": "2f41ee5e-30f1-44f3-a811-6aef41e40e84",
   "metadata": {},
   "source": [
    "Ans \n",
    "list, \n",
    "tuples,\n",
    "dict.\n"
   ]
  },
  {
   "cell_type": "markdown",
   "id": "5752a65a-8651-45a4-bbc5-d7929fbdb245",
   "metadata": {},
   "source": [
    "4. What is an expression made up of? What do all expressions do?"
   ]
  },
  {
   "cell_type": "markdown",
   "id": "19e27e1a-0dee-460a-83ff-fce9c922b6cd",
   "metadata": {},
   "source": [
    "Ans expressions are the combination of operators and operand   , expressions produces values after being interpreted by python interpreter"
   ]
  },
  {
   "cell_type": "markdown",
   "id": "f0669b88-b16f-4625-92a7-3e186985e30e",
   "metadata": {},
   "source": [
    "5. This assignment statements, like spam = 10. What is the difference between an expression and a statement?"
   ]
  },
  {
   "cell_type": "markdown",
   "id": "3d16b737-4e25-451f-bea9-2ce418c0d191",
   "metadata": {},
   "source": [
    "Ans expression evaluates to a single value , where as statement doesnt "
   ]
  },
  {
   "cell_type": "markdown",
   "id": "3aabaec2-a156-4e84-9ad3-dda647636646",
   "metadata": {},
   "source": [
    "6. After running the following code, what does the variable bacon contain?\n",
    "bacon = 22\n",
    "bacon + 1\n"
   ]
  },
  {
   "cell_type": "markdown",
   "id": "9c9de32a-9912-4717-8650-c5978ea78f2b",
   "metadata": {},
   "source": [
    "Ans bacon contains 22 "
   ]
  },
  {
   "cell_type": "markdown",
   "id": "630c42e4-9190-4a6f-a03a-db3a821086ad",
   "metadata": {},
   "source": [
    "7. What should the values of the following two terms be?\n",
    "'spam' + 'spamspam'\n",
    "'spam' * 3\n"
   ]
  },
  {
   "cell_type": "markdown",
   "id": "8a921617-8cf5-4412-aaed-c4e07d40de5c",
   "metadata": {},
   "source": [
    "Ans both expression evaluates to 'spamspamspam'"
   ]
  },
  {
   "cell_type": "markdown",
   "id": "a2f50cdb-9ca1-4f01-b465-4fcaca2f5424",
   "metadata": {},
   "source": [
    "8. Why is eggs a valid variable name while 100 is invalid?"
   ]
  },
  {
   "cell_type": "markdown",
   "id": "8869f10b-fdb2-406e-8318-eefa64601db0",
   "metadata": {},
   "source": [
    "Ans variable cannot begin with integer "
   ]
  },
  {
   "cell_type": "raw",
   "id": "2a9c38da-31bb-474d-a0cf-895356d3688e",
   "metadata": {},
   "source": [
    "9. What three functions can be used to get the integer, floating-point number, or string version of a value?"
   ]
  },
  {
   "cell_type": "markdown",
   "id": "e306015d-e909-4a4a-b909-ddd5c50339d9",
   "metadata": {},
   "source": [
    "Ans int() , float(), str()"
   ]
  },
  {
   "cell_type": "markdown",
   "id": "9cb8a4cf-e6a3-400d-8727-f8d910da008e",
   "metadata": {},
   "source": [
    "10. Why does this expression cause an error? How can you fix it?\n",
    "'I have eaten ' + 99 + ' burritos.'\n"
   ]
  },
  {
   "cell_type": "markdown",
   "id": "38af5fdf-5a58-4771-80fa-7ac5202a6f9f",
   "metadata": {},
   "source": [
    "Ans 'I have eaten ' +' 99' + ' burritos.'"
   ]
  },
  {
   "cell_type": "code",
   "execution_count": null,
   "id": "bc350ebb-c51f-4097-a91b-ea43c1abfd8e",
   "metadata": {},
   "outputs": [],
   "source": []
  }
 ],
 "metadata": {
  "kernelspec": {
   "display_name": "Python 3 (ipykernel)",
   "language": "python",
   "name": "python3"
  },
  "language_info": {
   "codemirror_mode": {
    "name": "ipython",
    "version": 3
   },
   "file_extension": ".py",
   "mimetype": "text/x-python",
   "name": "python",
   "nbconvert_exporter": "python",
   "pygments_lexer": "ipython3",
   "version": "3.10.6"
  }
 },
 "nbformat": 4,
 "nbformat_minor": 5
}
